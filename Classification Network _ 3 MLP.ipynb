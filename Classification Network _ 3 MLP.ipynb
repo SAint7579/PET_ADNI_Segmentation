{
 "cells": [
  {
   "cell_type": "code",
   "execution_count": 1,
   "metadata": {},
   "outputs": [],
   "source": [
    "import os\n",
    "import glob\n",
    "import cv2 \n",
    "import numpy as np\n",
    "import nibabel as nib\n",
    "import matplotlib.pyplot as plt\n",
    "from tqdm import tqdm\n",
    "import gc\n",
    "from sklearn.preprocessing import OneHotEncoder\n",
    "from sklearn.model_selection import train_test_split\n",
    "import tensorflow as tf\n",
    "from sklearn.decomposition import PCA\n",
    "from sklearn.manifold import TSNE\n",
    "from scipy.linalg import eigh\n",
    "\n",
    "#For Neural Network\n",
    "import keras\n",
    "import tensorflow as tf\n",
    "from keras.models import Model\n",
    "from keras.layers import Conv3D,Dense,MaxPool3D,ReLU,Input,concatenate,Flatten,BatchNormalization, Dropout, GlobalAveragePooling3D"
   ]
  },
  {
   "cell_type": "code",
   "execution_count": 2,
   "metadata": {},
   "outputs": [],
   "source": [
    "BATCH_SIZE = 15\n",
    "AUTOTUNE = tf.data.experimental.AUTOTUNE"
   ]
  },
  {
   "cell_type": "code",
   "execution_count": 5,
   "metadata": {},
   "outputs": [],
   "source": [
    "def readImage(location,y_temp):\n",
    "    image = nib.load(location)\n",
    "    temp = np.array(image.get_fdata())[:,:,:,0]\n",
    "    return (temp/temp.max()).astype(np.float32),y_temp"
   ]
  },
  {
   "cell_type": "code",
   "execution_count": 6,
   "metadata": {},
   "outputs": [],
   "source": [
    "def PCA_manual(image):\n",
    "    #Taking Covariance Matrix\n",
    "    stacked = np.vstack((image.reshape(-1), image.reshape(-1)))\n",
    "    cov = np.cov(stacked.T)\n",
    "    val,eigen = eigh(cov)\n",
    "    return np.matmul(eigen[-250:],temp.T).T.astype(np.float32)"
   ]
  },
  {
   "cell_type": "code",
   "execution_count": 8,
   "metadata": {},
   "outputs": [],
   "source": [
    "pca = PCA(n_components=250)\n",
    "def PCA2(image):\n",
    "    image = image.reshape(1,-1)\n",
    "    return pca.fit_transform(np.array(list(image)*250))[0]"
   ]
  },
  {
   "cell_type": "code",
   "execution_count": 9,
   "metadata": {},
   "outputs": [],
   "source": [
    "def pool3D(arr,\n",
    "           kernel=(10, 10, 10),\n",
    "           stride=(5, 5, 5),\n",
    "           func=np.nanmax,\n",
    "           ):\n",
    "    # check inputs\n",
    "    assert arr.ndim == 3\n",
    "    assert len(kernel) == 3\n",
    "\n",
    "    # create array with lots of padding around it, from which we grab stuff (could be more efficient, yes)\n",
    "    arr_padded_shape = arr.shape + 2 * np.array(kernel)\n",
    "    arr_padded = np.zeros(arr_padded_shape, dtype=arr.dtype) * np.nan\n",
    "    arr_padded[\n",
    "    kernel[0]:kernel[0] + arr.shape[0],\n",
    "    kernel[1]:kernel[1] + arr.shape[1],\n",
    "    kernel[2]:kernel[2] + arr.shape[2],\n",
    "    ] = arr\n",
    "\n",
    "    # create temporary array, which aggregates kernel elements in last axis\n",
    "    size_x = 1 + (arr.shape[0]-1) // stride[0]\n",
    "    size_y = 1 + (arr.shape[1]-1) // stride[1]\n",
    "    size_z = 1 + (arr.shape[2]-1) // stride[2]\n",
    "    size_kernel = np.prod(kernel)\n",
    "    arr_tmp = np.empty((size_x, size_y, size_z, size_kernel), dtype=arr.dtype)\n",
    "\n",
    "    # fill temporary array\n",
    "    kx_center = (kernel[0] - 1) // 2\n",
    "    ky_center = (kernel[1] - 1) // 2\n",
    "    kz_center = (kernel[2] - 1) // 2\n",
    "    idx_kernel = 0\n",
    "    for kx in range(kernel[0]):\n",
    "        dx = kernel[0] + kx - kx_center\n",
    "        for ky in range(kernel[1]):\n",
    "            dy = kernel[1] + ky - ky_center\n",
    "            for kz in range(kernel[2]):\n",
    "                dz = kernel[2] + kz - kz_center\n",
    "                arr_tmp[:, :, :, idx_kernel] = arr_padded[\n",
    "                                               dx:dx + arr.shape[0]:stride[0],\n",
    "                                               dy:dy + arr.shape[1]:stride[1],\n",
    "                                               dz:dz + arr.shape[2]:stride[2],\n",
    "                                               ]\n",
    "                idx_kernel += 1\n",
    "\n",
    "    # perform pool function\n",
    "    arr_final = func(arr_tmp, axis=-1)\n",
    "    return arr_final"
   ]
  },
  {
   "cell_type": "code",
   "execution_count": 52,
   "metadata": {},
   "outputs": [],
   "source": [
    "def preprocess(subject,y_temp):\n",
    "    subject = subject.numpy()\n",
    "    #subject = subject.reshape(128,128,90)\n",
    "    pooled = pool3D(subject).reshape(-1)\n",
    "    return PCA2(pooled),y_temp"
   ]
  },
  {
   "cell_type": "code",
   "execution_count": 53,
   "metadata": {},
   "outputs": [],
   "source": [
    "paths = np.array(glob.glob('./Dataset/*/*/*/*/*/*/*.nii'))"
   ]
  },
  {
   "cell_type": "code",
   "execution_count": 54,
   "metadata": {},
   "outputs": [],
   "source": [
    "##Creating the pipeline\n",
    "paths_train,paths_test,_,_ = train_test_split(paths,[0]*paths.shape[0],test_size=0.25)"
   ]
  },
  {
   "cell_type": "code",
   "execution_count": 55,
   "metadata": {},
   "outputs": [],
   "source": [
    "def getLabel(path):\n",
    "    path_decoded = path.numpy().decode()\n",
    "    #print(path_decoded)\n",
    "    name = path_decoded.split('\\\\')[1]\n",
    "    #print(name)\n",
    "    classes = np.array([\"AD\"])\n",
    "    return readImage(path_decoded,(classes == name).astype(np.float32))\n"
   ]
  },
  {
   "cell_type": "code",
   "execution_count": 56,
   "metadata": {},
   "outputs": [],
   "source": [
    "def tf_reshape(img,y):\n",
    "    return tf.reshape(img,(250,)),tf.reshape(y,(1,))"
   ]
  },
  {
   "cell_type": "code",
   "execution_count": 57,
   "metadata": {},
   "outputs": [],
   "source": [
    "readImage_wrapper = lambda x,y : tf.py_function(readImage,[x,y],[tf.float32,tf.float32])\n",
    "preprocess_wrapper = lambda x,y : tf.py_function(preprocess, [x,y], [tf.float32,tf.float32])\n",
    "getLabel_wrapper = lambda x : tf.py_function(getLabel, [x], [tf.float32,tf.float32])\n"
   ]
  },
  {
   "cell_type": "code",
   "execution_count": 58,
   "metadata": {},
   "outputs": [],
   "source": [
    "def create_dataset(paths):\n",
    "    dataset = tf.data.Dataset.from_tensor_slices(paths)\n",
    "    dataset = dataset.map(getLabel_wrapper, num_parallel_calls=AUTOTUNE)\n",
    "    #dataset = dataset.map(readImage_wrapper, num_parallel_calls=AUTOTUNE)\n",
    "    dataset = dataset.map(preprocess_wrapper , num_parallel_calls=AUTOTUNE)\n",
    "    dataset = dataset.map(tf_reshape , num_parallel_calls=AUTOTUNE)\n",
    "    dataset = dataset.batch(BATCH_SIZE)\n",
    "    dataset = dataset.prefetch(AUTOTUNE)\n",
    "    return dataset"
   ]
  },
  {
   "cell_type": "code",
   "execution_count": 59,
   "metadata": {},
   "outputs": [],
   "source": [
    "train_set = create_dataset(paths_train)\n",
    "test_set = create_dataset(paths_test)\n"
   ]
  },
  {
   "cell_type": "markdown",
   "metadata": {},
   "source": [
    "## Making the Model"
   ]
  },
  {
   "cell_type": "code",
   "execution_count": 60,
   "metadata": {},
   "outputs": [],
   "source": [
    "#For low intensity segments\n",
    "input_layer = Input(shape=(250),name='input')\n",
    "\n",
    "model = Dense(128,activation='relu')(input_layer)\n",
    "model = Dense(64, activation='relu')(model)\n",
    "output = Dense(1, activation='sigmoid')(model)"
   ]
  },
  {
   "cell_type": "code",
   "execution_count": 61,
   "metadata": {},
   "outputs": [],
   "source": [
    "model = Model(input_layer,output)"
   ]
  },
  {
   "cell_type": "code",
   "execution_count": 62,
   "metadata": {},
   "outputs": [
    {
     "data": {
      "image/png": "[encoded data removed]",
      "text/plain": [
       "<IPython.core.display.Image object>"
      ]
     },
     "execution_count": 62,
     "metadata": {},
     "output_type": "execute_result"
    }
   ],
   "source": [
    "from tensorflow.keras.utils import plot_model\n",
    "plot_model(model,show_shapes=True,show_layer_names=True,rankdir='TB',expand_nested=True)"
   ]
  },
  {
   "cell_type": "code",
   "execution_count": 63,
   "metadata": {},
   "outputs": [],
   "source": [
    "opt = tf.keras.optimizers.Adam(learning_rate=1e-3)\n",
    "#opt = tf.keras.mixed_precision.LossScaleOptimizer(opt)"
   ]
  },
  {
   "cell_type": "code",
   "execution_count": 64,
   "metadata": {},
   "outputs": [],
   "source": [
    "model.compile(optimizer=opt,loss='binary_crossentropy', metrics=['accuracy'])"
   ]
  },
  {
   "cell_type": "code",
   "execution_count": null,
   "metadata": {
    "scrolled": true
   },
   "outputs": [
    {
     "name": "stdout",
     "output_type": "stream",
     "text": [
      "Epoch 1/10\n",
      "37/37 [==============================] - 105s 3s/step - loss: 0.6913 - accuracy: 0.5335 - val_loss: 0.6811 - val_accuracy: 0.6209\n",
      "Epoch 2/10\n",
      "37/37 [==============================] - 105s 3s/step - loss: 0.6846 - accuracy: 0.5854 - val_loss: 0.6755 - val_accuracy: 0.6209\n",
      "Epoch 3/10\n",
      "37/37 [==============================] - 112s 3s/step - loss: 0.6819 - accuracy: 0.5854 - val_loss: 0.6737 - val_accuracy: 0.6209\n",
      "Epoch 4/10\n",
      "37/37 [==============================] - ETA: 0s - loss: 0.6809 - accuracy: 0.5862"
     ]
    }
   ],
   "source": [
    "model.fit(train_set,\n",
    "          batch_size=BATCH_SIZE,\n",
    "          epochs=10,\n",
    "          validation_data=test_set)"
   ]
  },
  {
   "cell_type": "code",
   "execution_count": null,
   "metadata": {},
   "outputs": [],
   "source": []
  }
 ],
 "metadata": {
  "kernelspec": {
   "display_name": "Python 3",
   "language": "python",
   "name": "python3"
  },
  "language_info": {
   "codemirror_mode": {
    "name": "ipython",
    "version": 3
   },
   "file_extension": ".py",
   "mimetype": "text/x-python",
   "name": "python",
   "nbconvert_exporter": "python",
   "pygments_lexer": "ipython3",
   "version": "3.8.5"
  }
 },
 "nbformat": 4,
 "nbformat_minor": 4
}
