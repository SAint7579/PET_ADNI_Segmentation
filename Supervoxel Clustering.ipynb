{
 "cells": [
  {
   "cell_type": "code",
   "execution_count": 2,
   "metadata": {
    "tags": []
   },
   "outputs": [],
   "source": [
    "import nibabel as nib\n",
    "import os\n",
    "import numpy as np\n",
    "import matplotlib.pyplot as plt\n",
    "import math\n",
    "from tqdm.notebook import tqdm"
   ]
  },
  {
   "cell_type": "code",
   "execution_count": null,
   "metadata": {},
   "outputs": [],
   "source": [
    "import jax\n",
    "import jax.numpy as jnp\n",
    "from jax import grad, jit, vmap\n",
    "from jax import random\n",
    "from jax import lax\n",
    "\n",
    "from functools import partial\n",
    "\n",
    "key = random.PRNGKey(0)"
   ]
  },
  {
   "cell_type": "code",
   "execution_count": null,
   "metadata": {},
   "outputs": [],
   "source": [
    "dataset = []\n",
    "for path in os.listdir('./Dataset/'):\n",
    "    if path[0:8] == \"ADNI_011\":\n",
    "        image = nib.load('./Dataset/'+path)\n",
    "        dataset.append(np.array(image.get_fdata())[:,:,:,0]/np.array(image.get_fdata())[:,:,:,0].max())\n",
    "\n",
    "dataset = np.array(dataset)"
   ]
  },
  {
   "cell_type": "code",
   "execution_count": 4,
   "metadata": {},
   "outputs": [],
   "source": [
    "def gridInterval(img,k):\n",
    "    #Number of Pixels\n",
    "    N = img.shape[0]*img.shape[1]*img.shape[2]\n",
    "    #Average Area of the Supervoxels\n",
    "    ratio = N/k\n",
    "    #Distance between centers\n",
    "    S = (ratio)**(1/3)\n",
    "    \n",
    "    return int(S)"
   ]
  },
  {
   "cell_type": "code",
   "execution_count": 5,
   "metadata": {},
   "outputs": [],
   "source": [
    "class SuperVoxel():\n",
    "    '''Class to represent a supervoxel'''\n",
    "    def __init__(self,intensity,x,y,z):\n",
    "        self.i = intensity\n",
    "        self.x = x\n",
    "        self.y = y\n",
    "        self.z = z\n",
    "        self.coord = np.array((x,y,z))\n",
    "        self.voxels = {}\n",
    "        \n",
    "    def update(self,intensity,x,y,z):\n",
    "        self.i = intensity\n",
    "        self.x = x\n",
    "        self.y = y\n",
    "        self.z = z\n",
    "        self.coord = np.array((x,y,z))\n",
    "\n",
    "    def describe(self):\n",
    "        print(\"Coordinates: \",self.coord,\" Intensity: \",self.i, \" Voxel Count: \",self.voxels.sum())\n",
    "      \n",
    "        \n",
    "def createSuperVoxel(x,y,z,image):\n",
    "    '''Function to return a SuperVoxel object'''\n",
    "    return SuperVoxel(image[x,y,z],x,y,z)\n",
    "\n",
    "def updateSuperVoxel(voxel,x,y,z,image):\n",
    "    return voxel.update(image[x,y,z],x,y,z)"
   ]
  },
  {
   "cell_type": "code",
   "execution_count": 6,
   "metadata": {
    "tags": []
   },
   "outputs": [],
   "source": [
    "# To define the initial cluster centers distanced at S\n",
    "def initialClusterCenter(S,img,img_h,img_w,img_d,clusters):\n",
    "    h = S // 3\n",
    "    w = S // 3\n",
    "    d = S // 3\n",
    "    while h < img_h:\n",
    "        while w < img_w:\n",
    "            while d < img_d:\n",
    "                clusters.append(createSuperVoxel(int(h), int(w), int(d), img))\n",
    "                d += S\n",
    "            d = S // 3\n",
    "            w += S\n",
    "        w = S // 3\n",
    "        h += S\n",
    "    \n",
    "    #Returning clusters\n",
    "    return clusters"
   ]
  },
  {
   "cell_type": "code",
   "execution_count": 7,
   "metadata": {},
   "outputs": [],
   "source": [
    "def getGradient(h,w,d,img_h,img_w,img_d,img):\n",
    "    #Checking for out of bounds\n",
    "    if w+1 >= img_w:\n",
    "        w = img_w - 2\n",
    "    if h+1 >= img_h:\n",
    "        h = img_h - 2\n",
    "    if d+1 >= img_d:\n",
    "        d = img_d - 2\n",
    "    \n",
    "    #Using sq-gradient formula\n",
    "    gradient = (img[h+1,w,d] - img[h-1,w,d])**2 + (img[h,w+1,d] - img[h,w-1,d])**2 + (img[h,w,d+1] - img[h,w,d-1])**2\n",
    "    \n",
    "    #returning value\n",
    "    return gradient\n",
    "\n",
    "def reassignwGradient(clusters,img):\n",
    "    #count = 0\n",
    "    MH, MW, MD = img.shape[0],img.shape[1],img.shape[2]\n",
    "    MH_1, MW_1, MD_1 = MH-1, MW-1, MD-1\n",
    "    for c in clusters:\n",
    "        #count += 1\n",
    "        c_gradient = getGradient(c.x,c.y,c.z,MH, MW, MD,img)\n",
    "        \n",
    "        for dh in range(-1,2):\n",
    "            for dw in range(-1,2):\n",
    "                for dd in range(-1,2):\n",
    "                    H = min(c.x + dh, MH_1)\n",
    "                    W = min(c.y + dw, MW_1)\n",
    "                    D = min(c.z + dd, MD_1)\n",
    "\n",
    "                    n_gradient = getGradient(H,W,D,MH, MW, MD,img)\n",
    "                \n",
    "                    if n_gradient < c_gradient:\n",
    "                        #Update to the smaller gradient voxel\n",
    "                        #print(\"On cent\",count,\"Reassigned\",c.x,c.y,c.z,\"to\",H,W,D)\n",
    "                        \n",
    "                        updateSuperVoxel(c,H,W,D,img)\n",
    "                        c_gradient = n_gradient"
   ]
  },
  {
   "cell_type": "code",
   "execution_count": 8,
   "metadata": {},
   "outputs": [],
   "source": [
    "@jit\n",
    "def calculateVoxelDistance(voxel_i,voxel_coord,img,x,y,z,S,l):\n",
    "    #calculating D_ij(in)\n",
    "    i = img[x,y,z]\n",
    "    d_in = jnp.sqrt((voxel_i - i)**2)\n",
    "    \n",
    "    #Calculating D_ij(sp)\n",
    "    d_sp = jnp.linalg.norm(voxel_coord - jnp.array((x,y,z)))\n",
    "    \n",
    "    #Calculating final distance\n",
    "    D = jnp.sqrt(\n",
    "        (d_in/l)**2 + (d_sp/S)**2\n",
    "    )\n",
    "    return D"
   ]
  },
  {
   "cell_type": "code",
   "execution_count": 9,
   "metadata": {},
   "outputs": [],
   "source": [
    "@jit\n",
    "def cvd_z(i, coord, img, h,w,rz, S,l):\n",
    "    return vmap(calculateVoxelDistance, in_axes=[None, None, None, None, None, 0, None, None])(i, coord, img, h,w,rz, S,l)\n",
    "\n",
    "@jit\n",
    "def cvd_y(i, coord, img, h,ry,rz, S,l):\n",
    "    return vmap(cvd_z, in_axes=[None, None, None, None, 0, None, None, None])(i, coord, img, h,ry,rz, S,l)\n",
    "\n",
    "@jit\n",
    "def cvd_x(i, coord, img, rx,ry,rz, S,l):\n",
    "    return vmap(cvd_y, in_axes=[None, None, None, 0, None, None, None, None])(i, coord, img, rx,ry,rz, S,l)"
   ]
  },
  {
   "cell_type": "code",
   "execution_count": 10,
   "metadata": {},
   "outputs": [],
   "source": [
    "from itertools import product"
   ]
  },
  {
   "cell_type": "code",
   "execution_count": 11,
   "metadata": {
    "tags": []
   },
   "outputs": [],
   "source": [
    "def assignVoxels(clusters,S,l,img,tag,dis):\n",
    "    '''\n",
    "    To assign cluster voxels to the centroids\n",
    "    '''\n",
    "    \n",
    "    #Taking the image coordinates\n",
    "    img_h = img.shape[0]\n",
    "    img_w = img.shape[1]\n",
    "    img_d = img.shape[2]\n",
    "    \n",
    "    img = jnp.asarray(img)\n",
    "    dds = np.zeros_like(dis)\n",
    "\n",
    "    for c in tqdm(clusters):\n",
    "        rgx = range(max(c.x - 2*S, 0), min(c.x + 2*S, img_h))\n",
    "        rgy = range(max(c.y - 2*S, 0), min(c.y + 2*S, img_w))\n",
    "        rgz = range(max(c.z - 2*S, 0), min(c.z + 2*S, img_d))\n",
    "        rx = np.asarray(rgx)\n",
    "        ry = np.asarray(rgy)\n",
    "        rz = np.asarray(rgz)\n",
    "        \n",
    "        distance = cvd_x(c.i, c.coord, img, rx,ry,rz, S,l)\n",
    "        ox, oy, oz = rgx.start, rgy.start, rgz.start\n",
    "        ex, ey, ez = rgx.stop, rgy.stop, rgz.stop\n",
    "        dds[ox:ex,oy:ey,oz:ez] = np.asarray(distance)\n",
    "        for h,w,d in product(rgx, rgy, rgz):\n",
    "            #Reassignment\n",
    "            curd = dds[h, w, d]\n",
    "            if curd < dis[h,w,d]:\n",
    "                key = (h,w,d)\n",
    "                if key in tag:\n",
    "                    tag[key].voxels.pop(key,None)\n",
    "                tag[key] = c\n",
    "                c.voxels[key] = None\n",
    "\n",
    "                dis[h,w,d] = curd"
   ]
  },
  {
   "cell_type": "code",
   "execution_count": 12,
   "metadata": {
    "tags": []
   },
   "outputs": [],
   "source": [
    "def updateCentroids(clusters,img):\n",
    "    img = np.asarray(img)\n",
    "    for c in tqdm(clusters):\n",
    "        sum_h = sum_w = sum_d = number = 0\n",
    "        for p in c.voxels.keys():\n",
    "            #Sum of values\n",
    "            sum_h += p[0]\n",
    "            sum_w += p[1]\n",
    "            sum_d += p[2]\n",
    "            number += 1\n",
    "            \n",
    "            #Taking the mean\n",
    "            H = sum_h // number\n",
    "            W = sum_w // number\n",
    "            D = sum_d // number\n",
    "            \n",
    "            #Updating voxel\n",
    "            updateSuperVoxel(c,H,W,D,img)"
   ]
  },
  {
   "cell_type": "code",
   "execution_count": 13,
   "metadata": {},
   "outputs": [],
   "source": [
    "def runSlic(img,k,l):\n",
    "    #Initialing arguments\n",
    "    S = gridInterval(img,k)\n",
    "    img_h = img.shape[0]\n",
    "    img_w = img.shape[1]\n",
    "    img_d = img.shape[2]\n",
    "    \n",
    "    #History \n",
    "    tag = dict()\n",
    "    dis = np.full((img_h, img_w, img_d), np.inf)\n",
    "    \n",
    "    print(\"Initializing centroids\")\n",
    "    clusters = initialClusterCenter(S,img,img_h,img_w,img_d,[])\n",
    "    print(\"reassignwGradient\")\n",
    "    reassignwGradient(clusters,img)\n",
    "    for i in range(10):\n",
    "        try:\n",
    "            #Reassignment\n",
    "            print(f\"On iteraion {i+1}\")\n",
    "            assignVoxels(clusters,S,l,img,tag,dis)\n",
    "            updateCentroids(clusters,img)\n",
    "        except Exception as e:\n",
    "            print(\"Loop Broken:\",e)\n",
    "            break\n",
    "\n",
    "    return clusters,tag,dis"
   ]
  },
  {
   "cell_type": "code",
   "execution_count": 14,
   "metadata": {},
   "outputs": [],
   "source": [
    "def imageConvert(img,clusters):\n",
    "    image = np.asarray(img)\n",
    "    for c in tqdm(clusters):\n",
    "        for x,y,z in c.voxels:\n",
    "            image[x,y,z]=c.i\n",
    "    return image"
   ]
  },
  {
   "cell_type": "code",
   "execution_count": 15,
   "metadata": {
    "tags": []
   },
   "outputs": [],
   "source": [
    "test = dataset[0]"
   ]
  },
  {
   "cell_type": "code",
   "execution_count": 17,
   "metadata": {
    "tags": []
   },
   "outputs": [
    {
     "name": "stdout",
     "output_type": "stream",
     "text": [
      "Initializing centroids\n",
      "reassignwGradient\n",
      "On iteraion 1\n"
     ]
    },
    {
     "data": {
      "application/vnd.jupyter.widget-view+json": {
       "model_id": "772afe88db974d0d9a39e3dd7f5eea14",
       "version_major": 2,
       "version_minor": 0
      },
      "text/plain": [
       "  0%|          | 0/8788 [00:00<?, ?it/s]"
      ]
     },
     "metadata": {},
     "output_type": "display_data"
    },
    {
     "data": {
      "application/vnd.jupyter.widget-view+json": {
       "model_id": "84c79d1ce2ac46fbbf264e2920ab0aa1",
       "version_major": 2,
       "version_minor": 0
      },
      "text/plain": [
       "  0%|          | 0/8788 [00:00<?, ?it/s]"
      ]
     },
     "metadata": {},
     "output_type": "display_data"
    },
    {
     "name": "stdout",
     "output_type": "stream",
     "text": [
      "On iteraion 2\n"
     ]
    },
    {
     "data": {
      "application/vnd.jupyter.widget-view+json": {
       "model_id": "3f35021537ae40319dc514bea1dc241d",
       "version_major": 2,
       "version_minor": 0
      },
      "text/plain": [
       "  0%|          | 0/8788 [00:00<?, ?it/s]"
      ]
     },
     "metadata": {},
     "output_type": "display_data"
    },
    {
     "data": {
      "application/vnd.jupyter.widget-view+json": {
       "model_id": "be3d4e5cd5f946d09fc28b7fdfcc2c78",
       "version_major": 2,
       "version_minor": 0
      },
      "text/plain": [
       "  0%|          | 0/8788 [00:00<?, ?it/s]"
      ]
     },
     "metadata": {},
     "output_type": "display_data"
    },
    {
     "name": "stdout",
     "output_type": "stream",
     "text": [
      "On iteraion 3\n"
     ]
    },
    {
     "data": {
      "application/vnd.jupyter.widget-view+json": {
       "model_id": "83db6b0c40884519a24aa939873ac264",
       "version_major": 2,
       "version_minor": 0
      },
      "text/plain": [
       "  0%|          | 0/8788 [00:00<?, ?it/s]"
      ]
     },
     "metadata": {},
     "output_type": "display_data"
    },
    {
     "data": {
      "application/vnd.jupyter.widget-view+json": {
       "model_id": "77a7ab806db4443994dc0cbda8cd09f0",
       "version_major": 2,
       "version_minor": 0
      },
      "text/plain": [
       "  0%|          | 0/8788 [00:00<?, ?it/s]"
      ]
     },
     "metadata": {},
     "output_type": "display_data"
    },
    {
     "name": "stdout",
     "output_type": "stream",
     "text": [
      "On iteraion 4\n"
     ]
    },
    {
     "data": {
      "application/vnd.jupyter.widget-view+json": {
       "model_id": "46585ea86fea494895d618d8ac42456d",
       "version_major": 2,
       "version_minor": 0
      },
      "text/plain": [
       "  0%|          | 0/8788 [00:00<?, ?it/s]"
      ]
     },
     "metadata": {},
     "output_type": "display_data"
    },
    {
     "data": {
      "application/vnd.jupyter.widget-view+json": {
       "model_id": "6f4562ae6388496696e9586b8929abfb",
       "version_major": 2,
       "version_minor": 0
      },
      "text/plain": [
       "  0%|          | 0/8788 [00:00<?, ?it/s]"
      ]
     },
     "metadata": {},
     "output_type": "display_data"
    },
    {
     "name": "stdout",
     "output_type": "stream",
     "text": [
      "On iteraion 5\n"
     ]
    },
    {
     "data": {
      "application/vnd.jupyter.widget-view+json": {
       "model_id": "dafc8cd2c8f7456faf56fba4540e4204",
       "version_major": 2,
       "version_minor": 0
      },
      "text/plain": [
       "  0%|          | 0/8788 [00:00<?, ?it/s]"
      ]
     },
     "metadata": {},
     "output_type": "display_data"
    },
    {
     "data": {
      "application/vnd.jupyter.widget-view+json": {
       "model_id": "5f198579f71e45c9bb04c596ea9533e3",
       "version_major": 2,
       "version_minor": 0
      },
      "text/plain": [
       "  0%|          | 0/8788 [00:00<?, ?it/s]"
      ]
     },
     "metadata": {},
     "output_type": "display_data"
    },
    {
     "name": "stdout",
     "output_type": "stream",
     "text": [
      "On iteraion 6\n"
     ]
    },
    {
     "data": {
      "application/vnd.jupyter.widget-view+json": {
       "model_id": "258a31cbd1e642d6b3d923ca9ff54413",
       "version_major": 2,
       "version_minor": 0
      },
      "text/plain": [
       "  0%|          | 0/8788 [00:00<?, ?it/s]"
      ]
     },
     "metadata": {},
     "output_type": "display_data"
    },
    {
     "data": {
      "application/vnd.jupyter.widget-view+json": {
       "model_id": "9d2f19dfc55541c2b31d151ba6571dde",
       "version_major": 2,
       "version_minor": 0
      },
      "text/plain": [
       "  0%|          | 0/8788 [00:00<?, ?it/s]"
      ]
     },
     "metadata": {},
     "output_type": "display_data"
    },
    {
     "name": "stdout",
     "output_type": "stream",
     "text": [
      "On iteraion 7\n"
     ]
    },
    {
     "data": {
      "application/vnd.jupyter.widget-view+json": {
       "model_id": "f292558e2389428d941920f4783a528e",
       "version_major": 2,
       "version_minor": 0
      },
      "text/plain": [
       "  0%|          | 0/8788 [00:00<?, ?it/s]"
      ]
     },
     "metadata": {},
     "output_type": "display_data"
    },
    {
     "data": {
      "application/vnd.jupyter.widget-view+json": {
       "model_id": "d8733576f8d44b2b808f4c4de6a9817a",
       "version_major": 2,
       "version_minor": 0
      },
      "text/plain": [
       "  0%|          | 0/8788 [00:00<?, ?it/s]"
      ]
     },
     "metadata": {},
     "output_type": "display_data"
    },
    {
     "name": "stdout",
     "output_type": "stream",
     "text": [
      "On iteraion 8\n"
     ]
    },
    {
     "data": {
      "application/vnd.jupyter.widget-view+json": {
       "model_id": "b423a438a0e14b4796d989e75d7bbb74",
       "version_major": 2,
       "version_minor": 0
      },
      "text/plain": [
       "  0%|          | 0/8788 [00:00<?, ?it/s]"
      ]
     },
     "metadata": {},
     "output_type": "display_data"
    },
    {
     "data": {
      "application/vnd.jupyter.widget-view+json": {
       "model_id": "708a29e65b3e4df4961cfcd9a05adb39",
       "version_major": 2,
       "version_minor": 0
      },
      "text/plain": [
       "  0%|          | 0/8788 [00:00<?, ?it/s]"
      ]
     },
     "metadata": {},
     "output_type": "display_data"
    },
    {
     "name": "stdout",
     "output_type": "stream",
     "text": [
      "On iteraion 9\n"
     ]
    },
    {
     "data": {
      "application/vnd.jupyter.widget-view+json": {
       "model_id": "30c281958615499995b2e19d64a174c5",
       "version_major": 2,
       "version_minor": 0
      },
      "text/plain": [
       "  0%|          | 0/8788 [00:00<?, ?it/s]"
      ]
     },
     "metadata": {},
     "output_type": "display_data"
    },
    {
     "data": {
      "application/vnd.jupyter.widget-view+json": {
       "model_id": "b0d25c2768954eaa9715eb94df883e11",
       "version_major": 2,
       "version_minor": 0
      },
      "text/plain": [
       "  0%|          | 0/8788 [00:00<?, ?it/s]"
      ]
     },
     "metadata": {},
     "output_type": "display_data"
    },
    {
     "name": "stdout",
     "output_type": "stream",
     "text": [
      "On iteraion 10\n"
     ]
    },
    {
     "data": {
      "application/vnd.jupyter.widget-view+json": {
       "model_id": "ad303ebd3814445fb76a479252c4674a",
       "version_major": 2,
       "version_minor": 0
      },
      "text/plain": [
       "  0%|          | 0/8788 [00:00<?, ?it/s]"
      ]
     },
     "metadata": {},
     "output_type": "display_data"
    },
    {
     "data": {
      "application/vnd.jupyter.widget-view+json": {
       "model_id": "e250b79ca51f4064901577a8c32118ce",
       "version_major": 2,
       "version_minor": 0
      },
      "text/plain": [
       "  0%|          | 0/8788 [00:00<?, ?it/s]"
      ]
     },
     "metadata": {},
     "output_type": "display_data"
    }
   ],
   "source": [
    "clusters,tag,dis = runSlic(test,6000,50)"
   ]
  },
  {
   "cell_type": "code",
   "execution_count": null,
   "metadata": {},
   "outputs": [],
   "source": [
    "import pickle\n",
    "path_to_write = './directory/'\n",
    "i = 0\n",
    "for d in dataset:\n",
    "    i += 1\n",
    "    print(\"Image \",1)\n",
    "    d = jnp.array(d)\n",
    "    clusters,tag,dis = runSlic(d,6000,50)\n",
    "    with open(str(i)+\"_clusters.pkl\", \"wb\") as f:\n",
    "        pickle.dump(clusters, f)\n",
    "  "
   ]
  },
  {
   "cell_type": "code",
   "execution_count": 18,
   "metadata": {
    "scrolled": true,
    "tags": []
   },
   "outputs": [
    {
     "data": {
      "image/png": "[encoded data removed]",
      "text/plain": [
       "<Figure size 432x288 with 1 Axes>"
      ]
     },
     "metadata": {
      "needs_background": "light"
     },
     "output_type": "display_data"
    }
   ],
   "source": [
    "plt.imshow(test[:,:,32],cmap='gray')\n",
    "plt.show()"
   ]
  },
  {
   "cell_type": "code",
   "execution_count": 19,
   "metadata": {},
   "outputs": [
    {
     "data": {
      "application/vnd.jupyter.widget-view+json": {
       "model_id": "5b55695c4b8544f3bdd567f3c2ea8287",
       "version_major": 2,
       "version_minor": 0
      },
      "text/plain": [
       "  0%|          | 0/8788 [00:00<?, ?it/s]"
      ]
     },
     "metadata": {},
     "output_type": "display_data"
    }
   ],
   "source": [
    "converted = imageConvert(test,clusters)"
   ]
  },
  {
   "cell_type": "code",
   "execution_count": 20,
   "metadata": {},
   "outputs": [
    {
     "data": {
      "image/png": "[encoded data removed]",
      "text/plain": [
       "<Figure size 432x288 with 1 Axes>"
      ]
     },
     "metadata": {
      "needs_background": "light"
     },
     "output_type": "display_data"
    }
   ],
   "source": [
    "plt.imshow(converted[:,:,32],cmap='gray')\n",
    "plt.show()"
   ]
  }
 ],
 "metadata": {
  "kernelspec": {
   "display_name": "Python 3",
   "language": "python",
   "name": "python3"
  },
  "language_info": {
   "codemirror_mode": {
    "name": "ipython",
    "version": 3
   },
   "file_extension": ".py",
   "mimetype": "text/x-python",
   "name": "python",
   "nbconvert_exporter": "python",
   "pygments_lexer": "ipython3",
   "version": "3.8.5"
  }
 },
 "nbformat": 4,
 "nbformat_minor": 4
}
