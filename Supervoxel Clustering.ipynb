{
 "cells": [
  {
   "cell_type": "code",
   "execution_count": 1,
   "metadata": {
    "tags": []
   },
   "outputs": [],
   "source": [
    "import nibabel as nib\n",
    "import os\n",
    "import numpy as np\n",
    "import matplotlib.pyplot as plt\n",
    "import math\n",
    "from tqdm.notebook import tqdm"
   ]
  },
  {
   "cell_type": "code",
   "execution_count": 2,
   "metadata": {},
   "outputs": [],
   "source": [
    "import jax\n",
    "import jax.numpy as jnp\n",
    "from jax import grad, jit, vmap\n",
    "from jax import random\n",
    "from jax import lax\n",
    "\n",
    "from functools import partial\n",
    "\n",
    "key = random.PRNGKey(0)"
   ]
  },
  {
   "cell_type": "code",
   "execution_count": 3,
   "metadata": {},
   "outputs": [],
   "source": [
    "dataset = []\n",
    "for path in os.listdir('./Dataset/'):\n",
    "    image = nib.load('./Dataset/'+path)\n",
    "    \n",
    "    dataset.append(np.array(image.get_fdata())[:,:,:,0]/np.array(image.get_fdata())[:,:,:,0].max())\n",
    "dataset = np.array(dataset)"
   ]
  },
  {
   "cell_type": "code",
   "execution_count": 4,
   "metadata": {},
   "outputs": [
    {
     "data": {
      "image/png": "[encoded data removed]",
      "text/plain": [
       "<Figure size 432x288 with 1 Axes>"
      ]
     },
     "metadata": {
      "needs_background": "light"
     },
     "output_type": "display_data"
    }
   ],
   "source": [
    "plt.imshow(dataset[0][:,:,32],cmap='gray')\n",
    "plt.show()"
   ]
  },
  {
   "cell_type": "code",
   "execution_count": 5,
   "metadata": {},
   "outputs": [],
   "source": [
    "@jit\n",
    "def gridInterval(img,k):\n",
    "    #Number of Pixels\n",
    "    N = img.shape[0]*img.shape[1]*img.shape[2]\n",
    "    #Average Area of the Supervoxels\n",
    "    ratio = N/k\n",
    "    #Distance between centers\n",
    "    S = (ratio)**(1/3)\n",
    "    \n",
    "    return S.astype(int)"
   ]
  },
  {
   "cell_type": "code",
   "execution_count": 6,
   "metadata": {},
   "outputs": [],
   "source": [
    "class SuperVoxel():\n",
    "    '''Class to represent a supervoxel'''\n",
    "    def __init__(self,intensity,x,y,z,img):\n",
    "        self.i = intensity\n",
    "        self.x = x\n",
    "        self.y = y\n",
    "        self.z = z\n",
    "        self.coord = jnp.array((x,y,z))\n",
    "        self.voxels = np.zeros_like(img, dtype=bool)\n",
    "        \n",
    "    def update(self,intensity,x,y,z):\n",
    "        self.i = intensity\n",
    "        self.x = x\n",
    "        self.y = y\n",
    "        self.z = z\n",
    "        self.coord = np.array((x,y,z))\n",
    "    \n",
    "    def set_voxel(self,val, h,w,d):\n",
    "        self.voxels[h,w,d] = val\n",
    "        \n",
    "    def describe(self):\n",
    "        print(\"Coordinates: \",self.coord,\" Intensity: \",self.i, \" Voxel Count: \",self.voxels.sum())\n",
    "      \n",
    "        \n",
    "def createSuperVoxel(x,y,z,image):\n",
    "    '''Function to return a SuperVoxel object'''\n",
    "    return SuperVoxel(image[x,y,z],x,y,z,image)\n",
    "\n",
    "def updateSuperVoxel(voxel,x,y,z,image):\n",
    "    '''Function to return a SuperVoxel object'''\n",
    "    return voxel.update(image[x,y,z],x,y,z)"
   ]
  },
  {
   "cell_type": "code",
   "execution_count": 7,
   "metadata": {
    "tags": []
   },
   "outputs": [],
   "source": [
    "# To define the initial cluster centers distanced at S\n",
    "def initialClusterCenter(S,img,img_h,img_w,img_d,clusters):\n",
    "    h = S // 3\n",
    "    w = S // 3\n",
    "    d = S // 3\n",
    "    while h < img_h:\n",
    "        while w < img_w:\n",
    "            while d < img_d:\n",
    "                clusters.append(createSuperVoxel(int(h), int(w), int(d), img))\n",
    "                d += S\n",
    "            d = S // 3\n",
    "            w += S\n",
    "        w = S // 3\n",
    "        h += S\n",
    "    \n",
    "    #Returning clusters\n",
    "    return clusters"
   ]
  },
  {
   "cell_type": "code",
   "execution_count": 8,
   "metadata": {},
   "outputs": [],
   "source": [
    "@jit\n",
    "def sq_gradient(img, h, w, d):\n",
    "    return (img[h+1,w,d] - img[h-1,w,d])**2 + (img[h,w+1,d] - img[h,w-1,d])**2 + (img[h,w,d+1] - img[h,w,d-1])**2\n",
    "\n",
    "def getGradient(h,w,d,img_h,img_w,img_d,img):\n",
    "    #Checking for out of bounds\n",
    "    if w+1 >= img_w:\n",
    "        w = img_w - 2\n",
    "    if h+1 >= img_h:\n",
    "        h = img_h - 2\n",
    "    if d+1 >= img_d:\n",
    "        d = img_d - 2\n",
    "    \n",
    "    #Using sq-gradient formula\n",
    "    gradient = sq_gradient(img, h, w, d)\n",
    "    \n",
    "    #returning value\n",
    "    return gradient\n",
    "\n",
    "def reassignwGradient(clusters,img):\n",
    "    #count = 0\n",
    "    for c in clusters:\n",
    "        #count += 1\n",
    "        c_gradient = getGradient(c.x,c.y,c.z,img.shape[0],img.shape[1],img.shape[2],img)\n",
    "        \n",
    "        for dh in range(-1,2):\n",
    "            for dw in range(-1,2):\n",
    "                for dd in range(-1,2):\n",
    "                    H = c.x + dh\n",
    "                    W = c.y + dw\n",
    "                    D = c.z + dd\n",
    "                    \n",
    "                    n_gradient = getGradient(H,W,D,img.shape[0],img.shape[1],img.shape[2],img)\n",
    "                    \n",
    "                    if n_gradient < c_gradient:\n",
    "                        #Update to the smaller gradient voxel\n",
    "                        #print(\"On cent\",count,\"Reassigned\",c.x,c.y,c.z,\"to\",H,W,D)\n",
    "                        \n",
    "                        updateSuperVoxel(c,H,W,D,img)\n",
    "                        c_gradient = n_gradient"
   ]
  },
  {
   "cell_type": "code",
   "execution_count": 9,
   "metadata": {},
   "outputs": [],
   "source": [
    "@jit\n",
    "def calculateVoxelDistance(voxel_i,voxel_coord,img,x,y,z,S,l):\n",
    "    #calculating D_ij(in)\n",
    "    i = img[x,y,z]\n",
    "    d_in = jnp.sqrt((voxel_i - i)**2)\n",
    "    \n",
    "    #Calculating D_ij(sp)\n",
    "    d_sp = jnp.linalg.norm(voxel_coord - jnp.array((x,y,z)))\n",
    "    \n",
    "    #Calculating final distance\n",
    "    D = jnp.sqrt(\n",
    "        (d_in/l)**2 + (d_sp/S)**2\n",
    "    )\n",
    "    return D"
   ]
  },
  {
   "cell_type": "code",
   "execution_count": 10,
   "metadata": {},
   "outputs": [],
   "source": [
    "@jit\n",
    "def cvd_z(i, coord, img, h,w,rz, S,l):\n",
    "    return vmap(calculateVoxelDistance, in_axes=[None, None, None, None, None, 0, None, None])(i, coord, img, h,w,rz, S,l)\n",
    "\n",
    "@jit\n",
    "def cvd_y(i, coord, img, h,ry,rz, S,l):\n",
    "    return vmap(cvd_z, in_axes=[None, None, None, None, 0, None, None, None])(i, coord, img, h,ry,rz, S,l)\n",
    "\n",
    "@jit\n",
    "def cvd_x(i, coord, img, rx,ry,rz, S,l):\n",
    "    return vmap(cvd_y, in_axes=[None, None, None, 0, None, None, None, None])(i, coord, img, rx,ry,rz, S,l)"
   ]
  },
  {
   "cell_type": "code",
   "execution_count": 11,
   "metadata": {},
   "outputs": [],
   "source": [
    "from itertools import product"
   ]
  },
  {
   "cell_type": "code",
   "execution_count": 12,
   "metadata": {
    "tags": []
   },
   "outputs": [],
   "source": [
    "def assignVoxels(clusters,S,l,img,tag,dis):\n",
    "    '''\n",
    "    To assign cluster voxels to the centroids\n",
    "    '''\n",
    "    \n",
    "    #Taking the image coordinates\n",
    "    img_h = img.shape[0]\n",
    "    img_w = img.shape[1]\n",
    "    img_d = img.shape[2]\n",
    "    \n",
    "    for c in tqdm(clusters):\n",
    "        rgx = range(max(c.x - 2*S, 0), min(c.x + 2*S, img_h))\n",
    "        rgy = range(max(c.y - 2*S, 0), min(c.y + 2*S, img_w))\n",
    "        rgz = range(max(c.z - 2*S, 0), min(c.z + 2*S, img_d))\n",
    "        rx = jnp.asarray(rgx)\n",
    "        ry = jnp.asarray(rgy)\n",
    "        rz = jnp.asarray(rgz)\n",
    "        \n",
    "        distance = cvd_x(c.i, c.coord, img, rx,ry,rz, S,l)\n",
    "        distance = np.asarray(distance)\n",
    "        ox, oy, oz = rgx.start, rgy.start, rgz.start\n",
    "        for h,w,d in product(rgx, rgy, rgz):\n",
    "            #Reassignment\n",
    "            curd = distance[h-ox, w-oy, d-oz]\n",
    "            if curd < dis[h,w,d]:\n",
    "                if (h,w,d) in tag:\n",
    "                    tag[(h,w,d)].set_voxel(False,h,w,d)\n",
    "                    tag[(h,w,d)] = c\n",
    "                    c.set_voxel(True,h,w,d)\n",
    "                else:\n",
    "                    tag[(h,w,d)] = c\n",
    "                    c.set_voxel(True,h,w,d)\n",
    "\n",
    "                dis[h,w] = curd"
   ]
  },
  {
   "cell_type": "code",
   "execution_count": 13,
   "metadata": {
    "tags": []
   },
   "outputs": [],
   "source": [
    "def updateCentroids(clusters,img):\n",
    "    img = np.asarray(img)\n",
    "    for c in tqdm(clusters):\n",
    "        sum_h = sum_w = sum_d = number = 0\n",
    "        for p in np.argwhere(c.voxels):\n",
    "            #Sum of values\n",
    "            sum_h += p[0]\n",
    "            sum_w += p[1]\n",
    "            sum_d += p[2]\n",
    "            number += 1\n",
    "            \n",
    "            #Taking the mean\n",
    "            H = sum_h // number\n",
    "            W = sum_w // number\n",
    "            D = sum_d // number\n",
    "            \n",
    "            #Updating voxel\n",
    "            updateSuperVoxel(c,H,W,D,img)\n",
    "        c.coord = jnp.asarray(c.coord)"
   ]
  },
  {
   "cell_type": "code",
   "execution_count": 14,
   "metadata": {},
   "outputs": [],
   "source": [
    "def runSlic(img,k,l):\n",
    "    #Initialing arguments\n",
    "    S = gridInterval(img,k)\n",
    "    img_h = img.shape[0]\n",
    "    img_w = img.shape[1]\n",
    "    img_d = img.shape[2]\n",
    "    \n",
    "    #History \n",
    "    tag = dict()\n",
    "    dis = np.full((img_h, img_w, img_d), np.inf)\n",
    "    \n",
    "    #Initializing centroids\n",
    "    clusters = initialClusterCenter(S,img,img_h,img_w,img_d,[])\n",
    "    reassignwGradient(clusters,img)\n",
    "    for i in range(10):\n",
    "        try:\n",
    "            #Reassignment\n",
    "            print(f\"On iteraion {i+1}\")\n",
    "            assignVoxels(clusters,S,l,img,tag,dis)\n",
    "            updateCentroids(clusters,img)\n",
    "        except Exception as e:\n",
    "            print(\"Loop Broken:\",e)\n",
    "            break\n",
    "\n",
    "    return clusters,tag,dis"
   ]
  },
  {
   "cell_type": "code",
   "execution_count": 15,
   "metadata": {},
   "outputs": [],
   "source": [
    "def imageConvert(img,clusters):\n",
    "    image = np.array(img)\n",
    "    for c in clusters:\n",
    "        for x,y,z in np.argwhere(c.voxels):\n",
    "            image[x,y,z]=c.i\n",
    "    return image"
   ]
  },
  {
   "cell_type": "code",
   "execution_count": 16,
   "metadata": {
    "tags": []
   },
   "outputs": [],
   "source": [
    "test = jnp.array(dataset[0])"
   ]
  },
  {
   "cell_type": "code",
   "execution_count": 17,
   "metadata": {
    "tags": []
   },
   "outputs": [
    {
     "name": "stdout",
     "output_type": "stream",
     "text": [
      "On iteraion 1\n"
     ]
    },
    {
     "data": {
      "application/vnd.jupyter.widget-view+json": {
       "model_id": "88d22a26dd484c64a453780de4033206",
       "version_major": 2,
       "version_minor": 0
      },
      "text/plain": [
       "  0%|          | 0/18 [00:00<?, ?it/s]"
      ]
     },
     "metadata": {},
     "output_type": "display_data"
    },
    {
     "data": {
      "application/vnd.jupyter.widget-view+json": {
       "model_id": "8430c7c72e28478f9b2b8b91a4cd1048",
       "version_major": 2,
       "version_minor": 0
      },
      "text/plain": [
       "  0%|          | 0/18 [00:00<?, ?it/s]"
      ]
     },
     "metadata": {},
     "output_type": "display_data"
    },
    {
     "name": "stdout",
     "output_type": "stream",
     "text": [
      "On iteraion 2\n"
     ]
    },
    {
     "data": {
      "application/vnd.jupyter.widget-view+json": {
       "model_id": "502c6922137d4fc59da653502504e359",
       "version_major": 2,
       "version_minor": 0
      },
      "text/plain": [
       "  0%|          | 0/18 [00:00<?, ?it/s]"
      ]
     },
     "metadata": {},
     "output_type": "display_data"
    },
    {
     "data": {
      "application/vnd.jupyter.widget-view+json": {
       "model_id": "ccb8a03723e7450e9c024924e2852b7b",
       "version_major": 2,
       "version_minor": 0
      },
      "text/plain": [
       "  0%|          | 0/18 [00:00<?, ?it/s]"
      ]
     },
     "metadata": {},
     "output_type": "display_data"
    },
    {
     "name": "stdout",
     "output_type": "stream",
     "text": [
      "On iteraion 3\n"
     ]
    },
    {
     "data": {
      "application/vnd.jupyter.widget-view+json": {
       "model_id": "3ee206890fbc496e931a8c12e046b7cf",
       "version_major": 2,
       "version_minor": 0
      },
      "text/plain": [
       "  0%|          | 0/18 [00:00<?, ?it/s]"
      ]
     },
     "metadata": {},
     "output_type": "display_data"
    },
    {
     "data": {
      "application/vnd.jupyter.widget-view+json": {
       "model_id": "2dbae8aa99724df4b8bf5a424aed2d3b",
       "version_major": 2,
       "version_minor": 0
      },
      "text/plain": [
       "  0%|          | 0/18 [00:00<?, ?it/s]"
      ]
     },
     "metadata": {},
     "output_type": "display_data"
    },
    {
     "name": "stdout",
     "output_type": "stream",
     "text": [
      "On iteraion 4\n"
     ]
    },
    {
     "data": {
      "application/vnd.jupyter.widget-view+json": {
       "model_id": "64ea2f0c7cfb4bde9460be8c680504b0",
       "version_major": 2,
       "version_minor": 0
      },
      "text/plain": [
       "  0%|          | 0/18 [00:00<?, ?it/s]"
      ]
     },
     "metadata": {},
     "output_type": "display_data"
    },
    {
     "ename": "KeyboardInterrupt",
     "evalue": "",
     "output_type": "error",
     "traceback": [
      "\u001b[0;31m---------------------------------------------------------------------------\u001b[0m",
      "\u001b[0;31mKeyboardInterrupt\u001b[0m                         Traceback (most recent call last)",
      "\u001b[0;32m<ipython-input-17-c0c22be71120>\u001b[0m in \u001b[0;36m<module>\u001b[0;34m\u001b[0m\n\u001b[0;32m----> 1\u001b[0;31m \u001b[0mclusters\u001b[0m\u001b[0;34m,\u001b[0m\u001b[0mtag\u001b[0m\u001b[0;34m,\u001b[0m\u001b[0mdis\u001b[0m \u001b[0;34m=\u001b[0m \u001b[0mrunSlic\u001b[0m\u001b[0;34m(\u001b[0m\u001b[0mtest\u001b[0m\u001b[0;34m,\u001b[0m\u001b[0;36m10\u001b[0m\u001b[0;34m,\u001b[0m\u001b[0;36m2\u001b[0m\u001b[0;34m)\u001b[0m\u001b[0;34m\u001b[0m\u001b[0;34m\u001b[0m\u001b[0m\n\u001b[0m",
      "\u001b[0;32m<ipython-input-14-5d9b846da0b6>\u001b[0m in \u001b[0;36mrunSlic\u001b[0;34m(img, k, l)\u001b[0m\n\u001b[1;32m     17\u001b[0m             \u001b[0;31m#Reassignment\u001b[0m\u001b[0;34m\u001b[0m\u001b[0;34m\u001b[0m\u001b[0;34m\u001b[0m\u001b[0m\n\u001b[1;32m     18\u001b[0m             \u001b[0mprint\u001b[0m\u001b[0;34m(\u001b[0m\u001b[0;34mf\"On iteraion {i+1}\"\u001b[0m\u001b[0;34m)\u001b[0m\u001b[0;34m\u001b[0m\u001b[0;34m\u001b[0m\u001b[0m\n\u001b[0;32m---> 19\u001b[0;31m             \u001b[0massignVoxels\u001b[0m\u001b[0;34m(\u001b[0m\u001b[0mclusters\u001b[0m\u001b[0;34m,\u001b[0m\u001b[0mS\u001b[0m\u001b[0;34m,\u001b[0m\u001b[0ml\u001b[0m\u001b[0;34m,\u001b[0m\u001b[0mimg\u001b[0m\u001b[0;34m,\u001b[0m\u001b[0mtag\u001b[0m\u001b[0;34m,\u001b[0m\u001b[0mdis\u001b[0m\u001b[0;34m)\u001b[0m\u001b[0;34m\u001b[0m\u001b[0;34m\u001b[0m\u001b[0m\n\u001b[0m\u001b[1;32m     20\u001b[0m             \u001b[0mupdateCentroids\u001b[0m\u001b[0;34m(\u001b[0m\u001b[0mclusters\u001b[0m\u001b[0;34m,\u001b[0m\u001b[0mimg\u001b[0m\u001b[0;34m)\u001b[0m\u001b[0;34m\u001b[0m\u001b[0;34m\u001b[0m\u001b[0m\n\u001b[1;32m     21\u001b[0m         \u001b[0;32mexcept\u001b[0m \u001b[0mException\u001b[0m \u001b[0;32mas\u001b[0m \u001b[0me\u001b[0m\u001b[0;34m:\u001b[0m\u001b[0;34m\u001b[0m\u001b[0;34m\u001b[0m\u001b[0m\n",
      "\u001b[0;32m<ipython-input-12-3a0ec5875f5e>\u001b[0m in \u001b[0;36massignVoxels\u001b[0;34m(clusters, S, l, img, tag, dis)\u001b[0m\n\u001b[1;32m     23\u001b[0m             \u001b[0;31m#Reassignment\u001b[0m\u001b[0;34m\u001b[0m\u001b[0;34m\u001b[0m\u001b[0;34m\u001b[0m\u001b[0m\n\u001b[1;32m     24\u001b[0m             \u001b[0mcurd\u001b[0m \u001b[0;34m=\u001b[0m \u001b[0mdistance\u001b[0m\u001b[0;34m[\u001b[0m\u001b[0mh\u001b[0m\u001b[0;34m-\u001b[0m\u001b[0mox\u001b[0m\u001b[0;34m,\u001b[0m \u001b[0mw\u001b[0m\u001b[0;34m-\u001b[0m\u001b[0moy\u001b[0m\u001b[0;34m,\u001b[0m \u001b[0md\u001b[0m\u001b[0;34m-\u001b[0m\u001b[0moz\u001b[0m\u001b[0;34m]\u001b[0m\u001b[0;34m\u001b[0m\u001b[0;34m\u001b[0m\u001b[0m\n\u001b[0;32m---> 25\u001b[0;31m             \u001b[0;32mif\u001b[0m \u001b[0mcurd\u001b[0m \u001b[0;34m<\u001b[0m \u001b[0mdis\u001b[0m\u001b[0;34m[\u001b[0m\u001b[0mh\u001b[0m\u001b[0;34m,\u001b[0m\u001b[0mw\u001b[0m\u001b[0;34m,\u001b[0m\u001b[0md\u001b[0m\u001b[0;34m]\u001b[0m\u001b[0;34m:\u001b[0m\u001b[0;34m\u001b[0m\u001b[0;34m\u001b[0m\u001b[0m\n\u001b[0m\u001b[1;32m     26\u001b[0m                 \u001b[0;32mif\u001b[0m \u001b[0;34m(\u001b[0m\u001b[0mh\u001b[0m\u001b[0;34m,\u001b[0m\u001b[0mw\u001b[0m\u001b[0;34m,\u001b[0m\u001b[0md\u001b[0m\u001b[0;34m)\u001b[0m \u001b[0;32min\u001b[0m \u001b[0mtag\u001b[0m\u001b[0;34m:\u001b[0m\u001b[0;34m\u001b[0m\u001b[0;34m\u001b[0m\u001b[0m\n\u001b[1;32m     27\u001b[0m                     \u001b[0mtag\u001b[0m\u001b[0;34m[\u001b[0m\u001b[0;34m(\u001b[0m\u001b[0mh\u001b[0m\u001b[0;34m,\u001b[0m\u001b[0mw\u001b[0m\u001b[0;34m,\u001b[0m\u001b[0md\u001b[0m\u001b[0;34m)\u001b[0m\u001b[0;34m]\u001b[0m\u001b[0;34m.\u001b[0m\u001b[0mset_voxel\u001b[0m\u001b[0;34m(\u001b[0m\u001b[0;32mFalse\u001b[0m\u001b[0;34m,\u001b[0m\u001b[0mh\u001b[0m\u001b[0;34m,\u001b[0m\u001b[0mw\u001b[0m\u001b[0;34m,\u001b[0m\u001b[0md\u001b[0m\u001b[0;34m)\u001b[0m\u001b[0;34m\u001b[0m\u001b[0;34m\u001b[0m\u001b[0m\n",
      "\u001b[0;31mKeyboardInterrupt\u001b[0m: "
     ]
    }
   ],
   "source": [
    "clusters,tag,dis = runSlic(test,10,2)"
   ]
  },
  {
   "cell_type": "code",
   "execution_count": null,
   "metadata": {
    "tags": []
   },
   "outputs": [],
   "source": [
    "for c in clusters:\n",
    "    c.describe()"
   ]
  },
  {
   "cell_type": "code",
   "execution_count": null,
   "metadata": {
    "scrolled": true
   },
   "outputs": [],
   "source": [
    "plt.imshow(test[:,:,32],cmap='gray')\n",
    "plt.show()"
   ]
  },
  {
   "cell_type": "code",
   "execution_count": null,
   "metadata": {},
   "outputs": [],
   "source": [
    "converted = imageConvert(test,clusters)"
   ]
  },
  {
   "cell_type": "code",
   "execution_count": null,
   "metadata": {},
   "outputs": [],
   "source": [
    "plt.imshow(converted[:,:,32],cmap='gray')\n",
    "plt.show()"
   ]
  },
  {
   "cell_type": "code",
   "execution_count": null,
   "metadata": {},
   "outputs": [],
   "source": [
    "(test-converted).sum()"
   ]
  },
  {
   "cell_type": "code",
   "execution_count": null,
   "metadata": {},
   "outputs": [],
   "source": [
    "clusters[3].i"
   ]
  },
  {
   "cell_type": "code",
   "execution_count": null,
   "metadata": {},
   "outputs": [],
   "source": [
    "clusters[3].coord"
   ]
  },
  {
   "cell_type": "code",
   "execution_count": null,
   "metadata": {
    "tags": []
   },
   "outputs": [],
   "source": [
    "np.argwhere(clusters[3].voxels)"
   ]
  },
  {
   "cell_type": "code",
   "execution_count": null,
   "metadata": {},
   "outputs": [],
   "source": [
    "converted[34,101,59]"
   ]
  },
  {
   "cell_type": "code",
   "execution_count": null,
   "metadata": {},
   "outputs": [],
   "source": [
    "test[34,101,59]"
   ]
  },
  {
   "cell_type": "code",
   "execution_count": null,
   "metadata": {
    "tags": []
   },
   "outputs": [],
   "source": []
  }
 ],
 "metadata": {
  "kernelspec": {
   "display_name": "Python 3",
   "language": "python",
   "name": "python3"
  },
  "language_info": {
   "codemirror_mode": {
    "name": "ipython",
    "version": 3
   },
   "file_extension": ".py",
   "mimetype": "text/x-python",
   "name": "python",
   "nbconvert_exporter": "python",
   "pygments_lexer": "ipython3",
   "version": "3.9.2"
  }
 },
 "nbformat": 4,
 "nbformat_minor": 4
}
